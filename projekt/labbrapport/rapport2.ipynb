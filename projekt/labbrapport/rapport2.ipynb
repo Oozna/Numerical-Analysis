{
 "cells": [
  {
   "cell_type": "markdown",
   "metadata": {},
   "source": [
    "# Laboration 2 - Stokastiska metoder, Monte Carlo"
   ]
  },
  {
   "cell_type": "markdown",
   "metadata": {},
   "source": [
    "#### Eric Johansson, Can Kupeli, Samuel Greenberg"
   ]
  },
  {
   "cell_type": "code",
   "execution_count": null,
   "metadata": {},
   "outputs": [],
   "source": [
    "import math\n",
    "import numpy as np\n",
    "import sympy as sp\n",
    "from matplotlib import pyplot as plt\n",
    "from numpy import random\n"
   ]
  },
  {
   "cell_type": "markdown",
   "metadata": {},
   "source": [
    "## Uppgift 1"
   ]
  },
  {
   "cell_type": "markdown",
   "metadata": {},
   "source": [
    "### a)"
   ]
  },
  {
   "cell_type": "code",
   "execution_count": null,
   "metadata": {},
   "outputs": [],
   "source": [
    "from python_functions import python_normal, python_likform\n",
    "\n",
    "for N in [1e2, 1e3, 1e4, 1e5]:\n",
    "    python_normal(int(N))\n"
   ]
  },
  {
   "cell_type": "markdown",
   "metadata": {},
   "source": [
    "Vi kan se att allt eftersom $N$ ökar blir distributionen mer lik en normalfördelning."
   ]
  },
  {
   "cell_type": "markdown",
   "metadata": {},
   "source": [
    "### b)"
   ]
  },
  {
   "cell_type": "code",
   "execution_count": null,
   "metadata": {},
   "outputs": [],
   "source": [
    "for mu in [10, 100]:\n",
    "    python_normal(10000, mu)\n"
   ]
  },
  {
   "cell_type": "markdown",
   "metadata": {},
   "source": [
    "Vi kan se att fördelsningen är väldigt lik, skillnaden är värdet de centreras kring. Alltså väntevärdet $\\mu$."
   ]
  },
  {
   "cell_type": "markdown",
   "metadata": {},
   "source": [
    "### c)"
   ]
  },
  {
   "cell_type": "code",
   "execution_count": null,
   "metadata": {},
   "outputs": [],
   "source": [
    "for var in [1, 10, 50]:\n",
    "    python_normal(10000, 0, var)\n"
   ]
  },
  {
   "cell_type": "markdown",
   "metadata": {},
   "source": [
    "Återigen är utseendet på fördelningen väldigt lik i alla 3 figurerna. Det vi kan se är att de sträcker ut sig mer och mer. Däremot så ligger inte extrempunkterna i figur 3 50 gånger längre bort än dem i figur 1 fastän variansen är 50 gånger större. Detta är eftersom standardavvikelsen $\\sigma$ är kvadratroten av variansen. Alltså borde figur 3 nå ca $\\sqrt{50}\\approx7.1$ gånger längre än figur 1 vilket stämmer ganska bra överens med resultatet vi fick."
   ]
  },
  {
   "cell_type": "markdown",
   "metadata": {},
   "source": [
    "### d)"
   ]
  },
  {
   "cell_type": "code",
   "execution_count": null,
   "metadata": {},
   "outputs": [],
   "source": [
    "for N in [10**2, 10**4, 10**6]:\n",
    "    python_likform(N)\n",
    "\n",
    "# Testa annat intervall\n",
    "python_likform(10**4, 5, 10)\n"
   ]
  },
  {
   "cell_type": "markdown",
   "metadata": {},
   "source": [
    "Allteftersom $\\lim_N\\rightarrow \\infty$ blir distributionen mer lik en likformig fördelning. Justeringen av intervallet ändrade inte utformningen men hade påverkan på funktionens värdemängd."
   ]
  },
  {
   "cell_type": "markdown",
   "metadata": {},
   "source": [
    "## Uppgift 2"
   ]
  },
  {
   "cell_type": "markdown",
   "metadata": {},
   "source": [
    "### a)"
   ]
  },
  {
   "cell_type": "code",
   "execution_count": null,
   "metadata": {},
   "outputs": [],
   "source": [
    "for N in [10**3, 10**4, 10**5]:\n",
    "    print(f\"{N} slumptal gav medelvärdet {np.mean(np.floor(1+6*random.rand(N)))}\")\n"
   ]
  },
  {
   "cell_type": "markdown",
   "metadata": {},
   "source": [
    "Ja, när $N$ ökar så konvergerar funktionen till 3.5."
   ]
  },
  {
   "cell_type": "markdown",
   "metadata": {},
   "source": [
    "### b)"
   ]
  },
  {
   "cell_type": "code",
   "execution_count": null,
   "metadata": {},
   "outputs": [],
   "source": [
    "from python_functions import tarning_upprepa\n",
    "\n",
    "tarning_upprepa()\n"
   ]
  },
  {
   "cell_type": "markdown",
   "metadata": {},
   "source": [
    "Det blir mer och mer likt en normalfördelning om vi utför fler upprepningar."
   ]
  },
  {
   "cell_type": "markdown",
   "metadata": {},
   "source": [
    "### c)"
   ]
  },
  {
   "cell_type": "code",
   "execution_count": null,
   "metadata": {},
   "outputs": [],
   "source": [
    "tarning_upprepa(200, [10**5])\n"
   ]
  },
  {
   "cell_type": "markdown",
   "metadata": {},
   "source": [
    "Resultatet av att öka antalet kast per medelvärde är att variansen blev lägre. Detta sker eftersom det är lägre sannolikhet att få extremfall som t.ex. att få alla 6or om man kastar 200 gånger jämfört med 10. Därav blir resultaten närmre 3.5 och variansen blir lägre."
   ]
  },
  {
   "cell_type": "markdown",
   "metadata": {},
   "source": [
    "### d)"
   ]
  },
  {
   "cell_type": "code",
   "execution_count": null,
   "metadata": {},
   "outputs": [],
   "source": [
    "from python_functions import tarning_egen\n",
    "\n",
    "n = 200\n",
    "N = 10**5\n",
    "\n",
    "sigma = np.sqrt(35 / (12 * n))\n",
    "mu = 3.5\n",
    "x = np.arange(2.8, 4.2, 0.01)\n",
    "f = 1 / (sigma * np.sqrt(2 * np.pi)) * np.exp(-((x - mu) ** 2) / (2 * sigma**2))\n",
    "\n",
    "tarning_egen(n, N, f * 1000, x)"
   ]
  },
  {
   "cell_type": "markdown",
   "metadata": {},
   "source": [
    "$f$ s magnitud är oberoende på antalet upprepningar och därför måste vi multiplicera den med 1000 för att få den att passa in med histogrammet"
   ]
  },
  {
   "cell_type": "markdown",
   "metadata": {},
   "source": [
    "### e)"
   ]
  },
  {
   "cell_type": "code",
   "execution_count": null,
   "metadata": {},
   "outputs": [],
   "source": [
    "loops = 1000\n",
    "p = np.array([3, 1, 1, 1, 1, 5])\n",
    "\n",
    "p = p / np.sum(p)\n",
    "F = np.cumsum(p)\n",
    "\n",
    "counter = 0\n",
    "inverse_sampler = np.zeros(loops)\n",
    "while counter < loops:\n",
    "    u = random.rand()\n",
    "    inverse_sampler[counter] = np.sum(u > F) + 1\n",
    "    counter += 1\n",
    "\n",
    "plt.hist(inverse_sampler)\n",
    "plt.show()\n"
   ]
  },
  {
   "cell_type": "markdown",
   "metadata": {},
   "source": [
    "Om vi jämför värdena i histogrammet mot de i $p$ så stämmer de ganska bra överens. 1 är ungefär 3 gånger så stor som 2,3,4,5 och 6 är lite mindre än dubbla 1.\n",
    "\n",
    "För att skapa en kontinuelig stokastisk variabel med täthetsfunktion tar du den kummulativa summan av täthetsfunktionen och hittar dess invers. Slutligen beräknar du den som $X=F-1(u)$\n",
    "\n",
    "Den samplade kumulativa fördelningsfunktionen skapar ett verktyg som simulerar sannolikheterna för varje kast, där\n",
    "deras sannolikhet motsvarar en procentandel av urvalet. Att skapa ett slumpmässigt tärningskast som följer\n",
    "korrekt sannolikhet görs genom interpolation, insättning av ett slumpmässigt genererat tal i det kumulativa\n",
    "distributionen returnerar ett tärningskast. Eftersom rand ger mellan 0 och 1 så adderar vi 1 till alla tal till sum(u > F) då den returnerar mellan 0 och 5"
   ]
  },
  {
   "cell_type": "markdown",
   "metadata": {},
   "source": [
    "## Uppgift 3"
   ]
  },
  {
   "cell_type": "markdown",
   "metadata": {},
   "source": [
    "### a)"
   ]
  },
  {
   "cell_type": "code",
   "execution_count": null,
   "metadata": {},
   "outputs": [],
   "source": [
    "from python_functions import mc_conv\n",
    "\n",
    "arr =  [10**3,10**4,10**5,10**6]\n",
    "\n",
    "print(\"1D\")\n",
    "for N in arr:\n",
    "    n, mu, err = mc_conv(np.array([[-5, 5]]), N)\n",
    "    print(f\"{n} gav medelvärdet {mu} och felet {err}\")\n",
    "\n",
    "print(\"\\n2D\")\n",
    "for N in arr:\n",
    "    n, mu, err = mc_conv(np.array([[-5, 5], [-5, 5]]), N)\n",
    "    print(f\"{n} gav medelvärdet {mu} och felet {err}\")\n",
    "\n"
   ]
  },
  {
   "cell_type": "markdown",
   "metadata": {},
   "source": [
    "Ja, i 1D konvergerar $\\mu$ till $\\sqrt{\\pi}$ medan i 2D konvergerar det till $\\pi$. Detta är en logisk ökning då $\\pi = \\sqrt{\\pi}^2$ och att 2D har ett kvadratiskt förhållande till 1D, t.ex. längd och area."
   ]
  },
  {
   "cell_type": "markdown",
   "metadata": {},
   "source": [
    "### b)"
   ]
  },
  {
   "cell_type": "code",
   "execution_count": null,
   "metadata": {},
   "outputs": [],
   "source": [
    "i = 6\n",
    "mu = np.zeros(i)\n",
    "err = np.zeros(i)\n",
    "N = np.zeros(i)\n",
    "\n",
    "for j in range(i):\n",
    "    N[j], mu[j], err[j] = mc_conv(np.array([[-5, 5]]), 10 ** (j + 1))\n",
    "\n",
    "a = np.polyfit(np.log(N), np.log(err), 1)\n",
    "\n",
    "print(\"1D\")\n",
    "print(f\"p = {a[0]} och C = {np.exp(a[1])}\")\n",
    "\n",
    "\n",
    "mu = np.zeros(i)\n",
    "err = np.zeros(i)\n",
    "N = np.zeros(i)\n",
    "\n",
    "for j in range(i):\n",
    "    N[j], mu[j], err[j] = mc_conv(np.array([[-5, 5], [-5, 5]]), 10 ** (j + 1))\n",
    "\n",
    "a = np.polyfit(np.log(N), np.log(err), 1)\n",
    "print(\"\\n2D\")\n",
    "print(f\"p = {a[0]} och C = {np.exp(a[1])}\")\n"
   ]
  },
  {
   "cell_type": "markdown",
   "metadata": {},
   "source": [
    "$p$ ändrades inte beroende på dimensionen.\n",
    "\n",
    "$C$ däremot ökade ganska mycket, med en faktor runt 3-5."
   ]
  },
  {
   "cell_type": "markdown",
   "metadata": {},
   "source": [
    "### c)"
   ]
  },
  {
   "cell_type": "markdown",
   "metadata": {},
   "source": [
    "För trapetsmetoden skulle det behövas $5^d$ beräkningar, där $d$ är dimenstionen. För 2d blir det\n",
    "25, för 10d blir det 9765625, för 20d blir det 9.53674316e13. Alltså väldigt stor ökning. Däremot ändras inte \n",
    "beräkningsintensiteten för Monte Carlo med dimensionen. En god tumregel är att använda sig av Monte Carlo \n",
    "över simpons eller trapetsmetoden om man är i över 10 dimensioner"
   ]
  }
 ],
 "metadata": {
  "kernelspec": {
   "display_name": "Python 3.9.13 ('base')",
   "language": "python",
   "name": "python3"
  },
  "language_info": {
   "codemirror_mode": {
    "name": "ipython",
    "version": 3
   },
   "file_extension": ".py",
   "mimetype": "text/x-python",
   "name": "python",
   "nbconvert_exporter": "python",
   "pygments_lexer": "ipython3",
   "version": "3.9.13"
  },
  "orig_nbformat": 4,
  "vscode": {
   "interpreter": {
    "hash": "074dd5e708d8eda37e15df2b59438f6279f092b29ca1a6362fc519be2d884027"
   }
  }
 },
 "nbformat": 4,
 "nbformat_minor": 2
}
