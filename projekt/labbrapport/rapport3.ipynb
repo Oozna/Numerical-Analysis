{
 "cells": [
  {
   "cell_type": "markdown",
   "metadata": {},
   "source": [
    "# Laboration 3 - Markovkedjor och Köteori"
   ]
  },
  {
   "cell_type": "markdown",
   "metadata": {},
   "source": [
    "#### Eric Johansson, Can Kupeli, Samuel Greenberg"
   ]
  },
  {
   "cell_type": "code",
   "execution_count": 37,
   "metadata": {},
   "outputs": [],
   "source": [
    "import math\n",
    "import numpy as np \n",
    "import sympy as sy \n",
    "from matplotlib import pyplot as plt"
   ]
  },
  {
   "cell_type": "markdown",
   "metadata": {},
   "source": [
    "## Uppgift 1"
   ]
  },
  {
   "cell_type": "markdown",
   "metadata": {},
   "source": [
    "### a)"
   ]
  },
  {
   "cell_type": "code",
   "execution_count": 38,
   "metadata": {},
   "outputs": [],
   "source": [
    "P = np.array([[0.80, 0.15, 0.05], [0.10, 0.75, 0.15], [0.25, 0.25, 0.50]])\n"
   ]
  },
  {
   "cell_type": "markdown",
   "metadata": {},
   "source": [
    "Överföringsmatrisen från Figur 1"
   ]
  },
  {
   "cell_type": "markdown",
   "metadata": {},
   "source": [
    "### b)"
   ]
  },
  {
   "cell_type": "code",
   "execution_count": 39,
   "metadata": {},
   "outputs": [
    {
     "name": "stdout",
     "output_type": "stream",
     "text": [
      "[0.41666813 0.41666569 0.16666618]\n",
      "30\n"
     ]
    }
   ],
   "source": [
    "s = np.array([1, 0, 0])\n",
    "\n",
    "tolerance = 1e-6\n",
    "err = 1\n",
    "\n",
    "iterations = 0\n",
    "\n",
    "while err > tolerance:\n",
    "    s_0 = s\n",
    "    s = s_0 @ P\n",
    "    err = np.max(np.abs(s - s_0))\n",
    "    iterations += 1\n",
    "\n",
    "\n",
    "print(s)\n",
    "print(iterations)\n"
   ]
  },
  {
   "cell_type": "markdown",
   "metadata": {},
   "source": [
    "### c)"
   ]
  },
  {
   "cell_type": "markdown",
   "metadata": {},
   "source": [
    "Med toleransen $ 10^{-6} $ fick vi stationära lösningen [0.41666684 0.41666655 0.16666661]"
   ]
  },
  {
   "cell_type": "markdown",
   "metadata": {},
   "source": [
    "### d)"
   ]
  },
  {
   "cell_type": "markdown",
   "metadata": {},
   "source": [
    "Nej, oavsett startvektor kommer vi till samma sationära lösning. Det är således en egodisk process"
   ]
  },
  {
   "cell_type": "markdown",
   "metadata": {},
   "source": [
    "### e)"
   ]
  },
  {
   "cell_type": "markdown",
   "metadata": {},
   "source": [
    "Ja, Den snabbaste konvergensen får vi om vi använder den riktiga stationära lösningen som startvektor."
   ]
  },
  {
   "cell_type": "markdown",
   "metadata": {},
   "source": [
    "## Uppgift 2"
   ]
  },
  {
   "cell_type": "code",
   "execution_count": 27,
   "metadata": {},
   "outputs": [
    {
     "name": "stdout",
     "output_type": "stream",
     "text": [
      "Matrix([[0.416666666666667, 0.416666666666667, 0.166666666666667]])\n"
     ]
    }
   ],
   "source": [
    "from sympy.stats import DiscreteMarkovChain as dmc\n",
    "\n",
    "T = sy.Matrix(\n",
    "    [\n",
    "        [4 / 5, 3 / 20, 1 / 20],\n",
    "        [1 / 10, 3 / 4, 3 / 20],\n",
    "        [1 / 4, 1 / 4, 1 / 2],\n",
    "    ]\n",
    ")\n",
    "X = sy.stats.dmc(\"X\", trans_probs=T)\n",
    "\n",
    "print(X.stationary_distribution())\n"
   ]
  },
  {
   "cell_type": "markdown",
   "metadata": {},
   "source": [
    "Ett exempel på hur man löser den med sympy. Från [symPy dokumentationen](https://docs.sympy.org/latest/modules/stats.html)"
   ]
  },
  {
   "cell_type": "markdown",
   "metadata": {},
   "source": [
    "## Uppgift 3"
   ]
  },
  {
   "cell_type": "code",
   "execution_count": 28,
   "metadata": {},
   "outputs": [
    {
     "name": "stdout",
     "output_type": "stream",
     "text": [
      "Med 1000000 upprepningar fick vi sannolikheterna [0.415997 0.417472 0.166531]\n"
     ]
    }
   ],
   "source": [
    "F = np.cumsum(P, axis=1)\n",
    "\n",
    "N = 10**6\n",
    "counts = np.array([0, 0, 0])\n",
    "\n",
    "real = [5 / 12, 5 / 12, 1 / 6]\n",
    "err = 1\n",
    "\n",
    "bull_index = 0\n",
    "bear_index = 1\n",
    "rec_index = 2\n",
    "\n",
    "curr = bull_index\n",
    "\n",
    "for _ in range(N):\n",
    "    counts[curr] = counts[curr] + 1\n",
    "    rnd = np.random.rand()\n",
    "    if rnd < F[curr, bull_index]:\n",
    "        curr = bull_index\n",
    "    elif rnd < F[curr, bear_index]:\n",
    "        curr = bear_index\n",
    "    else:\n",
    "        curr = rec_index\n",
    "\n",
    "print(\n",
    "    f\"Med {N} upprepningar fick vi sannolikheterna {counts/np.sum(counts)}\"\n",
    ")\n"
   ]
  },
  {
   "cell_type": "markdown",
   "metadata": {},
   "source": [
    "## Uppgift 4"
   ]
  },
  {
   "cell_type": "markdown",
   "metadata": {},
   "source": [
    "### a)"
   ]
  },
  {
   "cell_type": "code",
   "execution_count": 29,
   "metadata": {},
   "outputs": [],
   "source": [
    "Periodisk = [[0, 1, 0], [0, 0, 1], [1, 0, 0]]"
   ]
  },
  {
   "cell_type": "markdown",
   "metadata": {},
   "source": [
    "En cyklisk kedja är en som konstant går runt och runt. Denna kommmer inte att komma till en stationär lösning med hjälp av metoden i uppgift 1"
   ]
  },
  {
   "cell_type": "markdown",
   "metadata": {},
   "source": [
    "### b)"
   ]
  },
  {
   "cell_type": "code",
   "execution_count": 30,
   "metadata": {},
   "outputs": [],
   "source": [
    "Reducibel = [[0.5, 0.5, 0], [0.5, 0.5, 0], [0, 0, 1]]\n"
   ]
  },
  {
   "cell_type": "markdown",
   "metadata": {},
   "source": [
    "Denna matris är icke-ergodisk då startvektorn kommer ge olika resultat beroende på om man startar på de första två eller den sista"
   ]
  },
  {
   "cell_type": "markdown",
   "metadata": {},
   "source": [
    "### c)"
   ]
  },
  {
   "cell_type": "markdown",
   "metadata": {},
   "source": [
    "Ett exempel på en icke-minnesfri process vore om man inte kan åka tillbaka till stället man kom ifrån. Då måste man ha stället man kom ifrån sparat i minnet för att justera sannolikhetena"
   ]
  },
  {
   "cell_type": "markdown",
   "metadata": {},
   "source": [
    "### d)"
   ]
  },
  {
   "cell_type": "markdown",
   "metadata": {},
   "source": [
    "Fördelningen i (a) skulle kunna beräknas genom att räkna hur ofta vi är vid varje punkt och sedan dividera med antalet för att få någon slags medelvärde.\n",
    "\n",
    "I (b) blir man tvingad att komplettera med en yttre loop med flera olika starttillstånd och beräkna ensemblevärdet.\n",
    "\n",
    "Fördelningen i (c) kommer kräva stor ändring av koden och kan därför inte lätt använda sig av metoderna i uppgift 1-3"
   ]
  },
  {
   "cell_type": "markdown",
   "metadata": {},
   "source": [
    "## Uppgift 5"
   ]
  },
  {
   "cell_type": "markdown",
   "metadata": {},
   "source": [
    "### a)"
   ]
  },
  {
   "cell_type": "markdown",
   "metadata": {},
   "source": [
    "The M/M/2/4 is a Kendall notation, the first two variables represent the arrival and departure. The M's stands for Markov process, a poisson arrival (negative exponetial service). The third variable represents the number of servers, in this case 2. The fourth and final variable represents the buffer, the maximum number of customers allowed in the system, in this case 4."
   ]
  },
  {
   "cell_type": "markdown",
   "metadata": {},
   "source": [
    "### b)"
   ]
  },
  {
   "cell_type": "markdown",
   "metadata": {},
   "source": [
    "![](5b.JPG \"Markov Chain\")\n",
    "Markov Chains state diagram with transition probabilities"
   ]
  },
  {
   "cell_type": "markdown",
   "metadata": {},
   "source": [
    "### c)"
   ]
  },
  {
   "cell_type": "code",
   "execution_count": 31,
   "metadata": {},
   "outputs": [],
   "source": [
    "lam = 0.3;\n",
    "mu = 0.2;\n",
    "\n",
    "P = np.array([\n",
    "  [0.7, 0.3, 0.0, 0.0, 0.0],\n",
    "  [0.2, 0.5, 0.3, 0.0, 0.0],\n",
    "  [0.0, 0.4, 0.3, 0.3, 0.0],\n",
    "  [0.0, 0.0, 0.4, 0.3, 0.3],\n",
    "  [0.0, 0.0, 0.0, 0.4, 0.6]\n",
    "])"
   ]
  },
  {
   "cell_type": "markdown",
   "metadata": {},
   "source": [
    "### d)"
   ]
  },
  {
   "cell_type": "code",
   "execution_count": 32,
   "metadata": {},
   "outputs": [
    {
     "name": "stdout",
     "output_type": "stream",
     "text": [
      "[[0.19601838 0.29402757 0.22052067 0.16539051 0.12404288]]\n"
     ]
    }
   ],
   "source": [
    "T = sy.Matrix(P)\n",
    "X = sy.stats.dmc(\"X\", trans_probs=T)\n",
    "\n",
    "real = np.array(X.stationary_distribution()).astype(np.float64)\n",
    "print(real)"
   ]
  },
  {
   "cell_type": "markdown",
   "metadata": {},
   "source": [
    "### e)"
   ]
  },
  {
   "cell_type": "code",
   "execution_count": 33,
   "metadata": {},
   "outputs": [
    {
     "name": "stdout",
     "output_type": "stream",
     "text": [
      "1.7274119448698317\n"
     ]
    }
   ],
   "source": [
    "L = np.sum(np.array([0,1,2,3,4]).T * real);\n",
    "print(L)"
   ]
  },
  {
   "cell_type": "markdown",
   "metadata": {},
   "source": [
    "### f)"
   ]
  },
  {
   "cell_type": "code",
   "execution_count": 34,
   "metadata": {},
   "outputs": [
    {
     "name": "stdout",
     "output_type": "stream",
     "text": [
      "5.758039816232773\n"
     ]
    }
   ],
   "source": [
    "LittlesLaw = L/lam\n",
    "print(LittlesLaw)"
   ]
  },
  {
   "cell_type": "markdown",
   "metadata": {},
   "source": [
    "Using Little's Law the average time a customer spends within the system is calculated to 5.76 minutes. \n",
    "This was done by dividing the average number of customers in the system by the customer arrival rate."
   ]
  }
 ],
 "metadata": {
  "kernelspec": {
   "display_name": "Python 3.9.13 ('base')",
   "language": "python",
   "name": "python3"
  },
  "language_info": {
   "codemirror_mode": {
    "name": "ipython",
    "version": 3
   },
   "file_extension": ".py",
   "mimetype": "text/x-python",
   "name": "python",
   "nbconvert_exporter": "python",
   "pygments_lexer": "ipython3",
   "version": "3.9.13"
  },
  "orig_nbformat": 4,
  "vscode": {
   "interpreter": {
    "hash": "6cac79d349c9142536abc7b276da4c0ce5a5d39392fb382a648f34e9a2ba5b92"
   }
  }
 },
 "nbformat": 4,
 "nbformat_minor": 2
}
