{
   "cells": [
      {
         "cell_type": "markdown",
         "metadata": {},
         "source": [
            "# Laboration 1 - Ekvationer och Differensformler"
         ]
      },
      {
         "cell_type": "markdown",
         "metadata": {},
         "source": [
            "#### Eric Johansson, Can Kupeli, Samuel Greenberg"
         ]
      },
      {
         "cell_type": "code",
         "execution_count": 61,
         "metadata": {},
         "outputs": [],
         "source": [
            "import math\n",
            "import numpy as np\n",
            "import sympy as sp \n",
            "from matplotlib import pyplot as plt "
         ]
      },
      {
         "cell_type": "markdown",
         "metadata": {},
         "source": [
            "## Uppgift 1"
         ]
      },
      {
         "cell_type": "code",
         "execution_count": 62,
         "metadata": {},
         "outputs": [
            {
               "name": "stdout",
               "output_type": "stream",
               "text": [
                  "Framåtderivatan  med h=0.04 => 2.2009998703276854\n",
                  "Centralderivatan med h=0.04 => 2.164862077706964\n",
                  "Framåtderivatan  med h=0.02 => 2.1829004610484315\n",
                  "Centralderivatan med h=0.02 => 2.1648314358760854\n",
                  "Framåtderivatan  med h=0.01 => 2.173858304372933\n",
                  "Centralderivatan med h=0.01 => 2.164823775679292\n"
               ]
            }
         ],
         "source": [
            "def f(x):\n",
            "\treturn (math.sqrt(math.pow(x-5,5))+2*math.cos(math.pi*math.sqrt(x)))/(math.sqrt(x+4*math.log(x-math.pi))-1)\n",
            "\n",
            "def forward_diff(x,h):\n",
            "\treturn (f(x+h)-f(x))/h\n",
            "\n",
            "def center_diff(x,h):\n",
            "\treturn (f(x+h)-f(x-h))/(2*h)\n",
            "\n",
            "x0 = 7\n",
            "for h in [0.04, 0.02, 0.01]:\n",
            "\tprint(f\"Framåtderivatan  med h={h} => {forward_diff(x0,h)}\")\n",
            "\tprint(f\"Centralderivatan med h={h} => {center_diff(x0,h)}\")"
         ]
      },
      {
         "cell_type": "markdown",
         "metadata": {},
         "source": [
            "Resultaten visar att $D2$, centraldifferensen, är närmre det verkliga värdet av $f'(x_0)$. Detta är eftersom den har feltermen\n",
            "$O(h^2)$ medan framåtdiffensen har $O(h)$. Eftersom $h<1$ kommer feltermen i $O(h^2)$ konvergera mot $0$ snabbare än $O(h)$."
         ]
      },
      {
         "cell_type": "markdown",
         "metadata": {},
         "source": [
            "## Uppgift 2"
         ]
      },
      {
         "cell_type": "code",
         "execution_count": 70,
         "metadata": {},
         "outputs": [
            {
               "name": "stdout",
               "output_type": "stream",
               "text": [
                  "Exakta värdet av f'(7) är 2.164821222303575\n"
               ]
            }
         ],
         "source": [
            "x = sp.symbols(\"x\")\n",
            "f_syms = (sp.sqrt((x-5)**5) + 2*sp.cos(sp.pi*sp.sqrt(x)))/(sp.sqrt(x+4*sp.log(x-sp.pi))-1)\n",
            "f_prim = f_syms.diff()\n",
            "f_prim_x0 = f_prim.subs(x,x0)\n",
            "print(f\"Exakta värdet av f'(7) är {f_prim_x0.evalf(16)}\")"
         ]
      },
      {
         "cell_type": "markdown",
         "metadata": {},
         "source": [
            "Svaret blev 2.164821222303575 vilket är samma som det i instruktionen. Att arbeta symboliskt betyder att datorn hanterar $x$ som en symbol istället för ett värde som den gör när vi arbetar numeriskt. Det är därför vi behöver byta ut x mot 7 (subs(x,7)) för att få ut ett numeriskt uttryck."
         ]
      },
      {
         "cell_type": "markdown",
         "metadata": {},
         "source": [
            "## Uppgift 3"
         ]
      },
      {
         "cell_type": "code",
         "execution_count": 68,
         "metadata": {},
         "outputs": [
            {
               "name": "stdout",
               "output_type": "stream",
               "text": [
                  "Uppskattade värdet av f'(7) med extrapolering är 0.4570086859780442\n"
               ]
            }
         ],
         "source": [
            "# f kommer från Uppgift 1\n",
            "h = 2e-2\n",
            "k1= 2*(2*f(x0+h/2)-f(x0+h)-f(x0))/(h**2)\n",
            "\n",
            "f_prim_x0 = (f(x0+h)-f(x0))/h+k1*h\n",
            "print(f\"Uppskattade värdet av f'({x0}) med extrapolering är {f_prim_x0}\")"
         ]
      },
      {
         "cell_type": "markdown",
         "metadata": {},
         "source": [
            "Eftersom $h$ fortfarande är relativt stort kommer det fortfarande ifrån det riktiga värdet. Det är trots allt fortfarande en approximation"
         ]
      },
      {
         "cell_type": "markdown",
         "metadata": {},
         "source": [
            "## Uppgift 4"
         ]
      },
      {
         "cell_type": "code",
         "execution_count": 71,
         "metadata": {},
         "outputs": [
            {
               "name": "stdout",
               "output_type": "stream",
               "text": [
                  "Fbiss =>  0.753877124602953\n",
                  "Fbiss med extrapolering => 0.7539148190927047\n",
                  "Exakta värdet av f\"(7) = 1.806906812550099\n"
               ]
            }
         ],
         "source": [
            "# f kommer från Uppgift 1, f_prim kommer från Uppgift 2, x0 från Uppgift 1, h kommer från Uppgift 3\n",
            "\n",
            "# Vanlig numerisk\n",
            "def forward_biss(x,h):\n",
            "    return (f(x-h)-2*f(x)+f(x+h))/(h**2)\n",
            "\n",
            "print(f\"Fbiss =>  {forward_biss(x0,h)}\")\n",
            "# Extrapolerad numerisk\n",
            "k2 = (8*f(x0+h/2)+8*f(x0-h/2)-12*f(x0)-2*f(x0+h)-2*f(x0-h))/(h**3)\n",
            "print(f\"Fbiss med extrapolering => {forward_biss(x0,h)+k2*h}\")\n",
            "\n",
            "# Symbolisk\n",
            "f_biss = f_prim.diff()\n",
            "f_biss_x0 = f_biss.subs(x,7)\n",
            "print(f'Exakta värdet av f\"(7) = {f_biss_x0.evalf(16)}')\n"
         ]
      },
      {
         "cell_type": "markdown",
         "metadata": {},
         "source": [
            "$$     f''(x)-f''(x) = \\frac{f(x-h)-2f(x)+f(x+h)}{h^2}+kh-\\left( \\frac{f(x-\\frac{h}{2})-2f(x)+f(x+\\frac{h}{2})}{\\frac{h^2}{4}}+\\frac{kh}{2}\\right) $$\n",
            "\n",
            "$$     0 = \\frac{f(x-h)-2f(x)+f(x+h)}{h^2}+kh- \\frac{f(x-\\frac{h}{2})-2f(x)+f(x+\\frac{h}{2})}{\\frac{h^2}{4}}-\\frac{kh}{2} $$\n",
            "\n",
            "$$    \\frac{kh}{2}-kh = \\frac{f(x-h)-2f(x)+f(x+h)}{h^2}- \\frac{f(x-\\frac{h}{2})-2f(x)+f(x+\\frac{h}{2})}{\\frac{h^2}{4}} $$\n",
            "\n",
            "$$    -\\frac{kh}{2} = \\frac{f(x-h)-2f(x)+f(x+h)}{h^2}- \\frac{4\\left(f(x-\\frac{h}{2})-2f(x)+f(x+\\frac{h}{2})\\right)}{h^2} $$\n",
            "\n",
            "$$    -\\frac{kh}{2} = \\frac{f(x-h)-4f(x-\\frac{h}{2})+6f(x)+f(x+h)-4f(x+\\frac{h}{2})}{h^2} $$\n",
            "\n",
            "$$    -k =  \\frac{2f(x-h)-8f(x-\\frac{h}{2})+12f(x)+2f(x+h)-8f(x+\\frac{h}{2})}{h^3} $$\n",
            "\n",
            "$$    k =  \\frac{-2f(x-h)+8f(x-\\frac{h}{2})-12f(x)-2f(x+h)+8f(x+\\frac{h}{2})}{h^3} $$\n",
            "\n",
            "$$    k =  \\frac{8f(x+\\frac{h}{2})+8f(x-\\frac{h}{2})-12f(x)-2f(x+h)-2f(x-h)}{h^3} $$\n",
            "\n",
            "\n",
            "Uträkning för extrapolering.\n",
            "\n"
         ]
      },
      {
         "cell_type": "markdown",
         "metadata": {},
         "source": []
      },
      {
         "cell_type": "markdown",
         "metadata": {},
         "source": [
            "## Uppgift 5"
         ]
      },
      {
         "cell_type": "code",
         "execution_count": 66,
         "metadata": {},
         "outputs": [
            {
               "data": {
                  "image/png": "[encoded data removed]",
                  "text/plain": [
                     "<Figure size 640x480 with 1 Axes>"
                  ]
               },
               "metadata": {},
               "output_type": "display_data"
            }
         ],
         "source": [
            "# Array från -15 till 15 med steglängd 0.1\n",
            "x = np.arange(-15,15,0.1)\n",
            "\n",
            "# Funktion-stil\n",
            "def F(x):\n",
            "\treturn -x/5-np.cos(x)\n",
            "\n",
            "# Numpy-stil\n",
            "y = -x/5-np.cos(x)\n",
            "\n",
            "# Plot styling\n",
            "plt.title(\"Uppgift 5\") \n",
            "plt.xlabel(\"x\") \n",
            "plt.ylabel(\"F(x)\") \n",
            "plt.xlim(-10,10) \n",
            "plt.grid()\n",
            "plt.axhline(linewidth = 1, color = \"black\")\n",
            "plt.axvline(linewidth = 1, color = \"black\")\n",
            "\n",
            "\n",
            "#plt.plot(x,F(x))\n",
            "plt.plot(x,y)\n",
            "plt.show()\n"
         ]
      },
      {
         "cell_type": "markdown",
         "metadata": {},
         "source": [
            "Vi kan se att det finns 3 nollställen nära -1.75, 2.2 och 4"
         ]
      },
      {
         "cell_type": "markdown",
         "metadata": {},
         "source": [
            "## Uppgift 6"
         ]
      },
      {
         "cell_type": "code",
         "execution_count": 67,
         "metadata": {},
         "outputs": [
            {
               "name": "stdout",
               "output_type": "stream",
               "text": [
                  "Estimate when starting at 2 = 3.837467107273312 and took 4 iterations with tolerance 1e-06\n"
               ]
            }
         ],
         "source": [
            "# Lambdastil\n",
            "f = lambda x: -x/5 - np.cos(x)\n",
            "f_prim = lambda x: -1/5 + np.sin(x)\n",
            "\n",
            "# Vanlig funktionsstil\n",
            "\n",
            "#def f(x):\n",
            "#\treturn -x/5-math.cos(x)\n",
            "\n",
            "# def f_prim(x):\n",
            "# \treturn -1/5+math.sin(x)\n",
            "\n",
            "tolerance = 1e-6\n",
            "def newton_rhapson(f, f_prim, x0, tolerance):\n",
            "\tnewton_rhapson.counter += 1\n",
            "\tif abs(f(x0)) < tolerance:\n",
            "\t\treturn x0 \n",
            "\telse:\n",
            "\t\treturn newton_rhapson(f,f_prim,x0 - f(x0)/f_prim(x0),tolerance)\n",
            "\n",
            "newton_rhapson.counter = 0\n",
            "print(f\"Estimate when starting at 2 = {newton_rhapson(f,f_prim, 4 ,tolerance)} and took {newton_rhapson.counter} iterations with tolerance {tolerance}\")"
         ]
      },
      {
         "cell_type": "markdown",
         "metadata": {},
         "source": []
      },
      {
         "cell_type": "code",
         "execution_count": null,
         "metadata": {},
         "outputs": [],
         "source": []
      },
      {
         "cell_type": "markdown",
         "metadata": {},
         "source": [
            "## Uppgift 7"
         ]
      },
      {
         "cell_type": "code",
         "execution_count": 11,
         "metadata": {},
         "outputs": [
            {
               "name": "stdout",
               "output_type": "stream",
               "text": [
                  "Estimate when starting at 4 and 5 = 3.837467525012162 and took 6 iterations\n"
               ]
            }
         ],
         "source": [
            "# f kommer från Uppgift 6\n",
            "\n",
            "def secant_method(f,left,right,tolerance):\n",
            "\tsecant_method.counter += 1\n",
            "\tif abs(left-right) < tolerance:\n",
            "\t\treturn left\n",
            "\telse:\n",
            "\t\treturn secant_method(f,right, left-((left-right)*f(left))/(f(left)-f(right)), tolerance)\n",
            "\n",
            "secant_method.counter = 0\n",
            "print(f\"Estimate when starting at 4 and 5 = {secant_method(f,4, 5 ,tolerance)} and took {secant_method.counter} iterations with tolerance {tolerance}\")"
         ]
      },
      {
         "cell_type": "markdown",
         "metadata": {},
         "source": []
      },
      {
         "cell_type": "markdown",
         "metadata": {},
         "source": [
            "## Uppgift 8"
         ]
      },
      {
         "cell_type": "code",
         "execution_count": 16,
         "metadata": {},
         "outputs": [
            {
               "name": "stdout",
               "output_type": "stream",
               "text": [
                  "Nollställe nr 1: 3.83746710649905\n",
                  "Nollställe nr 2: -1.30644000836951\n",
                  "Nollställe nr 3: 1.97738302932884\n"
               ]
            }
         ],
         "source": [
            "f = sp.sympify(\"-x/5-cos(x)\")\n",
            "print(f\"Nollställe nr 1: {sp.nsolve(f,4)}\")\n",
            "print(f\"Nollställe nr 2: {sp.nsolve(f,-1)}\")\n",
            "print(f\"Nollställe nr 3: {sp.nsolve(f,2)}\")"
         ]
      },
      {
         "cell_type": "markdown",
         "metadata": {},
         "source": []
      }
   ],
   "metadata": {
      "kernelspec": {
         "display_name": "Python 3.9.13 ('base')",
         "language": "python",
         "name": "python3"
      },
      "language_info": {
         "codemirror_mode": {
            "name": "ipython",
            "version": 3
         },
         "file_extension": ".py",
         "mimetype": "text/x-python",
         "name": "python",
         "nbconvert_exporter": "python",
         "pygments_lexer": "ipython3",
         "version": "3.9.13"
      },
      "orig_nbformat": 4,
      "vscode": {
         "interpreter": {
            "hash": "074dd5e708d8eda37e15df2b59438f6279f092b29ca1a6362fc519be2d884027"
         }
      }
   },
   "nbformat": 4,
   "nbformat_minor": 2
}