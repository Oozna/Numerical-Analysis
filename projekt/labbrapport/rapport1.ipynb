{
   "cells": [
      {
         "cell_type": "markdown",
         "metadata": {},
         "source": [
            "# Laboration 1 - Ekvationer och Differensformler"
         ]
      },
      {
         "cell_type": "markdown",
         "metadata": {},
         "source": [
            "#### Eric Johansson, Can Kupeli, Samuel Greenberg"
         ]
      },
      {
         "cell_type": "code",
         "execution_count": 47,
         "metadata": {},
         "outputs": [],
         "source": [
            "import math\n",
            "import numpy as np\n",
            "import sympy as sy \n",
            "from matplotlib import pyplot as plt "
         ]
      },
      {
         "cell_type": "markdown",
         "metadata": {},
         "source": [
            "## Uppgift 1"
         ]
      },
      {
         "cell_type": "code",
         "execution_count": 48,
         "metadata": {},
         "outputs": [
            {
               "name": "stdout",
               "output_type": "stream",
               "text": [
                  "Framåtderivatan  med h=0.04 => 2.2009998703276854\n",
                  "Centralderivatan med h=0.04 => 2.164862077706964\n",
                  "Framåtderivatan  med h=0.02 => 2.1829004610484315\n",
                  "Centralderivatan med h=0.02 => 2.1648314358760854\n",
                  "Framåtderivatan  med h=0.01 => 2.173858304372933\n",
                  "Centralderivatan med h=0.01 => 2.164823775679292\n"
               ]
            }
         ],
         "source": [
            "def f(x):\n",
            "\treturn (math.sqrt(math.pow(x-5,5))+2*math.cos(math.pi*math.sqrt(x)))/(math.sqrt(x+4*math.log(x-math.pi))-1)\n",
            "\n",
            "def forward_diff(f,x,h):\n",
            "\treturn (f(x+h)-f(x))/h\n",
            "\n",
            "def center_diff(f,x,h):\n",
            "\treturn (f(x+h)-f(x-h))/(2*h)\n",
            "\n",
            "x0 = 7\n",
            "for h in [0.04, 0.02, 0.01]:\n",
            "\tprint(f\"Framåtderivatan  med h={h} => {forward_diff(f,x0,h)}\")\n",
            "\tprint(f\"Centralderivatan med h={h} => {center_diff(f,x0,h)}\")"
         ]
      },
      {
         "cell_type": "markdown",
         "metadata": {},
         "source": [
            "Resultaten visar att $D2$, centraldifferensen, är närmre det verkliga värdet av $f'(x_0)$. Detta är eftersom den har feltermen\n",
            "$O(h^2)$ medan framåtdiffensen har $O(h)$. Eftersom $h<1$ kommer feltermen i $O(h^2)$ konvergera mot $0$ snabbare än $O(h)$."
         ]
      },
      {
         "cell_type": "markdown",
         "metadata": {},
         "source": [
            "## Uppgift 2"
         ]
      },
      {
         "cell_type": "code",
         "execution_count": 49,
         "metadata": {},
         "outputs": [
            {
               "name": "stdout",
               "output_type": "stream",
               "text": [
                  "Exakta värdet av f'(7) är 2.164821222303575\n"
               ]
            }
         ],
         "source": [
            "x = sy.symbols(\"x\")\n",
            "f_syms = (sy.sqrt((x-5)**5) + 2*sy.cos(sy.pi*sy.sqrt(x)))/(sy.sqrt(x+4*sy.log(x-sy.pi))-1)\n",
            "f_prim = f_syms.diff()\n",
            "f_prim_x0 = f_prim.subs(x,x0)\n",
            "print(f\"Exakta värdet av f'(7) är {f_prim_x0.evalf(16)}\")"
         ]
      },
      {
         "cell_type": "markdown",
         "metadata": {},
         "source": [
            "Svaret blev 2.164821222303575 vilket är samma som det i instruktionen. Att arbeta symboliskt betyder att datorn hanterar $x$ som en symbol istället för ett värde som den gör när vi arbetar numeriskt. Det är därför vi behöver byta ut x mot 7 (subs(x,7)) för att få ut ett numeriskt uttryck."
         ]
      },
      {
         "cell_type": "markdown",
         "metadata": {},
         "source": [
            "## Uppgift 3"
         ]
      },
      {
         "cell_type": "code",
         "execution_count": 50,
         "metadata": {},
         "outputs": [
            {
               "name": "stdout",
               "output_type": "stream",
               "text": [
                  "Uppskattade värdet av f'(7) med extrapolering är 2.164816147697435\n"
               ]
            }
         ],
         "source": [
            "# f kommer från Uppgift 1\n",
            "h = 2e-2\n",
            "k1= 2*(2*f(x0+h/2)-f(x0+h)-f(x0))/(h**2)\n",
            "\n",
            "f_prim_x0 = (f(x0+h)-f(x0))/h+k1*h\n",
            "print(f\"Uppskattade värdet av f'({x0}) med extrapolering är {f_prim_x0}\")"
         ]
      },
      {
         "cell_type": "markdown",
         "metadata": {},
         "source": [
            "Eftersom $h$ fortfarande är relativt stort kommer det fortfarande ifrån det riktiga värdet. Det är trots allt fortfarande en approximation"
         ]
      },
      {
         "cell_type": "markdown",
         "metadata": {},
         "source": [
            "## Uppgift 4"
         ]
      },
      {
         "cell_type": "code",
         "execution_count": 51,
         "metadata": {},
         "outputs": [
            {
               "name": "stdout",
               "output_type": "stream",
               "text": [
                  "Fbiss utan extrapolering => 1.8069025172345876\n",
                  "Fbiss med extrapolering  => 1.8069068126340866\n",
                  "Exakta värdet av f\"(7)   => 1.8069068125500986\n"
               ]
            }
         ],
         "source": [
            "# f kommer från Uppgift 1, f_prim kommer från Uppgift 2, x0 från Uppgift 1, h kommer från Uppgift 3\n",
            "\n",
            "# Vanlig numerisk\n",
            "def forward_biss(f,x,h):\n",
            "    return (f(x-h)-2*f(x)+f(x+h))/(h**2)\n",
            "\n",
            "print(f\"Fbiss utan extrapolering => {forward_biss(f,x0,h)}\")\n",
            "\n",
            "biss1 = forward_biss(f,x0,h)\n",
            "biss2 = forward_biss(f,x0,2*h)\n",
            "richardson = (4*biss1-biss2)/3\n",
            "print(f\"Fbiss med extrapolering  => {richardson}\")\n",
            "# Extrapolerad numerisk\n",
            "\n",
            "# Symbolisk\n",
            "f_biss = f_prim.diff()\n",
            "f_biss_x0 = f_biss.subs(x,7)\n",
            "print(f'Exakta värdet av f\"(7)   => {f_biss_x0.evalf(17)}')\n"
         ]
      },
      {
         "cell_type": "markdown",
         "metadata": {},
         "source": [
            "\n",
            "Återigen ser vi att det extrapolerade värdet är närmre det riktiga än det vanliga. Däremot är skillnaden inte markant.\n"
         ]
      },
      {
         "cell_type": "markdown",
         "metadata": {},
         "source": [
            "## Uppgift 5"
         ]
      },
      {
         "cell_type": "code",
         "execution_count": 52,
         "metadata": {},
         "outputs": [
            {
               "data": {
                  "image/png": "[encoded data removed]",
                  "text/plain": [
                     "<Figure size 640x480 with 1 Axes>"
                  ]
               },
               "metadata": {},
               "output_type": "display_data"
            }
         ],
         "source": [
            "import sys \n",
            "eps = sys.float_info.epsilon\n",
            "\n",
            "all_h = []\n",
            "y = []\n",
            "for h in range(1,17):\n",
            "    y.append(abs(forward_diff(f,x0,1/10**h)-2.164821222303575))\n",
            "    all_h.append(h)\n",
            "\n",
            "plt.plot(all_h,y )\n",
            "plt.title(\"Error with regards to h\")\n",
            "plt.ylabel(\"Error\")\n",
            "plt.xlabel(\"h**-x\")\n",
            "plt.show()"
         ]
      },
      {
         "cell_type": "markdown",
         "metadata": {},
         "source": [
            "Den bästa värdet på $h$ fås genom att använda $h\\approx x\\sqrt{\\epsilon}$ vilket i detta fall var runt 1.043e-07\n",
            "Efter det blev approximationen sämre och sämre och kring $\\epsilon$ belv den lika med 0.\n",
            "\n",
            "Vid för små värden kommer det bli för stora avrundningsfel vid beräkningen och därför får vi inte några bra svar. En god tumregel är att använda formeln $h=x_0\\sqrt{\\epsilon}$ om $x\\neq 0$ "
         ]
      },
      {
         "cell_type": "markdown",
         "metadata": {},
         "source": [
            "## Uppgift 6"
         ]
      },
      {
         "cell_type": "code",
         "execution_count": 53,
         "metadata": {},
         "outputs": [
            {
               "data": {
                  "image/png": "[encoded data removed]",
                  "text/plain": [
                     "<Figure size 640x480 with 1 Axes>"
                  ]
               },
               "metadata": {},
               "output_type": "display_data"
            }
         ],
         "source": [
            "# Array från -15 till 15 med steglängd 0.1\n",
            "x = np.arange(-15,15,0.1)\n",
            "\n",
            "# Funktion-stil\n",
            "def F(x):\n",
            "\treturn -x/5-np.cos(x)\n",
            "\n",
            "# Numpy-stil\n",
            "y = -x/5-np.cos(x)\n",
            "\n",
            "# Plot styling\n",
            "plt.title(\"Uppgift 5\") \n",
            "plt.xlabel(\"x\") \n",
            "plt.ylabel(\"F(x)\") \n",
            "plt.xlim(-2.5,5) \n",
            "plt.grid()\n",
            "plt.axhline(linewidth = 1, color = \"black\")\n",
            "plt.axvline(linewidth = 1, color = \"black\")\n",
            "\n",
            "\n",
            "#plt.plot(x,F(x))\n",
            "plt.plot(x,y)\n",
            "plt.show()\n"
         ]
      },
      {
         "cell_type": "markdown",
         "metadata": {},
         "source": [
            "Vi kan se att det finns 3 nollställen nära -1.3, 2 och 3.8"
         ]
      },
      {
         "cell_type": "markdown",
         "metadata": {},
         "source": [
            "## Uppgift 7"
         ]
      },
      {
         "cell_type": "code",
         "execution_count": 54,
         "metadata": {},
         "outputs": [
            {
               "name": "stdout",
               "output_type": "stream",
               "text": [
                  "Estimate when starting at  4   =  3.837467107273312 and took 4 iterations with tolerance 1e-06\n",
                  "Estimate when starting at -1.3 = -1.3064400083720198 and took 7 iterations with tolerance 1e-06\n",
                  "Estimate when starting at  2   =  1.9773830233365421 and took 10 iterations with tolerance 1e-06\n"
               ]
            }
         ],
         "source": [
            "# Lambdastil\n",
            "f = lambda x: -x/5 - np.cos(x)\n",
            "f_prim = lambda x: -1/5 + np.sin(x)\n",
            "\n",
            "# Vanlig funktionsstil\n",
            "\n",
            "#def f(x):\n",
            "#\treturn -x/5-math.cos(x)\n",
            "\n",
            "# def f_prim(x):\n",
            "# \treturn -1/5+math.sin(x)\n",
            "\n",
            "tolerance = 1e-6\n",
            "def newton_rhapson(f, f_prim, x0, tolerance):\n",
            "\tnewton_rhapson.counter += 1\n",
            "\tif abs(f(x0)) < tolerance:\n",
            "\t\treturn x0 \n",
            "\telse:\n",
            "\t\treturn newton_rhapson(f,f_prim,x0 - f(x0)/f_prim(x0),tolerance)\n",
            "\n",
            "newton_rhapson.counter = 0\n",
            "print(f\"Estimate when starting at  4   =  {newton_rhapson(f,f_prim, 4 ,tolerance)} and took {newton_rhapson.counter} iterations with tolerance {tolerance}\")\n",
            "print(f\"Estimate when starting at -1.3 = {newton_rhapson(f,f_prim, -1.3 ,tolerance)} and took {newton_rhapson.counter} iterations with tolerance {tolerance}\")\n",
            "print(f\"Estimate when starting at  2   =  {newton_rhapson(f,f_prim, 2 ,tolerance)} and took {newton_rhapson.counter} iterations with tolerance {tolerance}\")\n",
            "# print(f\"Estimate when starting at 3 = {newton_rhapson(f,f_prim, 3 ,tolerance)} and took {newton_rhapson.counter} iterations with tolerance {tolerance}\")"
         ]
      },
      {
         "cell_type": "markdown",
         "metadata": {},
         "source": [
            "Om vi börjar med $x_0=3$ så konvergerar funktionen inte. Detta är eftersom derivatan är väldigt nära 0 i den punkten och därför kommer nästa approximation hamna långt bort. Detta kombinerat med att det finns flera lokala extrema mellan där och de vid de riktiga nollställena gör att den inte kommer tillbaka."
         ]
      },
      {
         "cell_type": "markdown",
         "metadata": {},
         "source": [
            "## Uppgift 8"
         ]
      },
      {
         "cell_type": "code",
         "execution_count": 55,
         "metadata": {},
         "outputs": [
            {
               "name": "stdout",
               "output_type": "stream",
               "text": [
                  "Uppskattning med startvärde 4 och 5 => 3.837467525012162 och tog 6 iterationer med toleransen 1e-06\n"
               ]
            }
         ],
         "source": [
            "# f kommer från Uppgift 6\n",
            "\n",
            "def secant_method(f,left,right,tolerance):\n",
            "\tsecant_method.counter += 1\n",
            "\tif abs(left-right) < tolerance:\n",
            "\t\treturn left\n",
            "\telse:\n",
            "\t\treturn secant_method(f,right, left-((left-right)*f(left))/(f(left)-f(right)), tolerance)\n",
            "\n",
            "secant_method.counter = 0\n",
            "print(f\"Uppskattning med startvärde 4 och 5 => {secant_method(f,4, 5 ,tolerance)} och tog {secant_method.counter} iterationer med toleransen {tolerance}\")"
         ]
      },
      {
         "cell_type": "markdown",
         "metadata": {},
         "source": [
            "Det som är bra med sekantmetoden är att man inte behöver veta derivatan av funktionen vilket man behöver i Newton Rhapson. Däremot behöver man ge två startvärden, till skillnad från Newton Rhapson där man endast behöver ge en."
         ]
      },
      {
         "cell_type": "markdown",
         "metadata": {},
         "source": [
            "## Uppgift 9"
         ]
      },
      {
         "cell_type": "code",
         "execution_count": 56,
         "metadata": {},
         "outputs": [
            {
               "name": "stdout",
               "output_type": "stream",
               "text": [
                  "Nollställe nr 1:  3.83746710649905\n",
                  "Nollställe nr 2: -1.30644000836951\n",
                  "Nollställe nr 3:  1.97738302932884\n"
               ]
            }
         ],
         "source": [
            "f = sy.sympify(\"-x/5-cos(x)\")\n",
            "print(f\"Nollställe nr 1:  {sy.nsolve(f, 4)}\")\n",
            "print(f\"Nollställe nr 2: {sy.nsolve(f,-1)}\")\n",
            "print(f\"Nollställe nr 3:  {sy.nsolve(f, 2)}\")"
         ]
      },
      {
         "cell_type": "markdown",
         "metadata": {},
         "source": [
            "Vi kan se att man mycket lätt kan beräkna nollställen med hjälp av inbyggda funktioner."
         ]
      }
   ],
   "metadata": {
      "kernelspec": {
         "display_name": "Python 3.9.13 ('base')",
         "language": "python",
         "name": "python3"
      },
      "language_info": {
         "codemirror_mode": {
            "name": "ipython",
            "version": 3
         },
         "file_extension": ".py",
         "mimetype": "text/x-python",
         "name": "python",
         "nbconvert_exporter": "python",
         "pygments_lexer": "ipython3",
         "version": "3.9.13"
      },
      "orig_nbformat": 4,
      "vscode": {
         "interpreter": {
            "hash": "074dd5e708d8eda37e15df2b59438f6279f092b29ca1a6362fc519be2d884027"
         }
      }
   },
   "nbformat": 4,
   "nbformat_minor": 2
}
